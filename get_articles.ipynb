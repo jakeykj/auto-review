{
 "cells": [
  {
   "cell_type": "markdown",
   "metadata": {},
   "source": [
    "## Load articles from Google Scholars, Bioarxiv, CORD19  ## Save sentences and its embedding"
   ]
  },
  {
   "cell_type": "code",
   "execution_count": 1,
   "metadata": {},
   "outputs": [],
   "source": [
    "import pandas as pd\n",
    "import pickle"
   ]
  },
  {
   "cell_type": "code",
   "execution_count": null,
   "metadata": {},
   "outputs": [],
   "source": [
    "### Extract COVID-19 related articles from Publish and Perish command line\n",
    "#tar xzf pop7tools-linux.tar.gz\n",
    "#! ../data/publish-and-perish/pop7query --info\n",
    "#!./pop7query --title \"COVID-19\" OR \"coronavirus\" OR \"coronavirus\"OR \"covid\" OR \"severe acute respiratory syndrome coronavirus 2\" OR \"SARS-CoV-2\" OR \"2019-nCoV\" OR \"Novel Coronavirus\" --years=2019-2020 --max number 100 --format json\n"
   ]
  },
  {
   "cell_type": "code",
   "execution_count": 1,
   "metadata": {},
   "outputs": [],
   "source": [
    "#path information\n",
    "task='task1'# or 'task2' # specify task\n",
    "root_path='/repo1/code/autoreview/'\n",
    "data_path=root_path+'data/'+task+'/'#path to save retrieved articles abstract\n",
    "sentence_file_name='hypercoagulable.pkl'\n",
    "sentence_embedding_file_name='sentence_embedding.pkl'"
   ]
  },
  {
   "cell_type": "code",
   "execution_count": 2,
   "metadata": {},
   "outputs": [],
   "source": [
    "def get_articles():\n",
    "    \"\"\"\n",
    "    Load articles from Google Scholars, CORD19 or PoP\n",
    "    Will be imported from Xiaoqian's notebook at http://129.106.31.45:8019/notebooks/xjiang2/cord19_round2.ipynb#\n",
    "    \n",
    "    \n",
    "    \"\"\"\n",
    "    \n",
    "    # Load articles\n",
    "    \n",
    "    # Select articles based on keywords (e.g., \"hypercoagulabel\")\n",
    "    \n",
    "    # Derive Sentence embedding     \n",
    "    \n",
    "    # Select sentences that are similar to query\n",
    "    \n",
    "    # Save the sentencess \n",
    "    assert sentences.columns==['sid', 'ncord_uid', 'sentence' ]   \n",
    "    pickle.dump(sentences, open(data_path+sentence_file_name, 'wb'))\n",
    "    \n",
    "    # Save the sentence embedding\n",
    "    pickle.dump(sentence_embedding, open(data_path+sentence_embedding_file_name, 'wb'))\n",
    "    \n",
    "    \n",
    "    \n",
    "    "
   ]
  },
  {
   "cell_type": "code",
   "execution_count": null,
   "metadata": {},
   "outputs": [],
   "source": []
  }
 ],
 "metadata": {
  "kernelspec": {
   "display_name": "Python 3",
   "language": "python",
   "name": "python3"
  },
  "language_info": {
   "codemirror_mode": {
    "name": "ipython",
    "version": 3
   },
   "file_extension": ".py",
   "mimetype": "text/x-python",
   "name": "python",
   "nbconvert_exporter": "python",
   "pygments_lexer": "ipython3",
   "version": "3.7.6"
  }
 },
 "nbformat": 4,
 "nbformat_minor": 4
}
