{
 "cells": [
  {
   "cell_type": "code",
   "execution_count": null,
   "metadata": {},
   "outputs": [],
   "source": [
    "### Extract COVID-19 related articles from Publish and Perish command line\n",
    "#tar xzf pop7tools-linux.tar.gz\n",
    "#! ../data/publish-and-perish/pop7query --info\n",
    "#!./pop7query --title \"COVID-19\" OR \"coronavirus\" OR \"coronavirus\"OR \"covid\" OR \"severe acute respiratory syndrome coronavirus 2\" OR \"SARS-CoV-2\" OR \"2019-nCoV\" OR \"Novel Coronavirus\" --years=2019-2020 --max number 100 --format json\n"
   ]
  },
  {
   "cell_type": "code",
   "execution_count": null,
   "metadata": {},
   "outputs": [],
   "source": [
    "#path information\n",
    "task='task1'# or 'task2' # specify task\n",
    "root_path='/repo1/code/autoreview/'\n",
    "data_path=root_path+'data/'+task+'/'#path to save retrieved articles abstract\n",
    "articles"
   ]
  },
  {
   "cell_type": "markdown",
   "metadata": {},
   "source": [
    "## Load articles and save as csv files"
   ]
  },
  {
   "cell_type": "code",
   "execution_count": null,
   "metadata": {},
   "outputs": [],
   "source": [
    "def load_articles_json():\n",
    "    \"\"\"\n",
    "    Load article json file from  CORD19 or PoP\n",
    "    Save related articles into tsv file with header of pid (paper id), abstract, full text, impact factor\n",
    "    \n",
    "    \"\"\"\n",
    "    \n",
    "    \n",
    "    assert articles.columns==['pid', 'title', 'abstract', 'full_text', 'impact_factor']\n",
    "    \n",
    "    articles.to_csv(data_path+'articles.tsv', sep='\\t')"
   ]
  }
 ],
 "metadata": {
  "kernelspec": {
   "display_name": "Python 3",
   "language": "python",
   "name": "python3"
  },
  "language_info": {
   "codemirror_mode": {
    "name": "ipython",
    "version": 3
   },
   "file_extension": ".py",
   "mimetype": "text/x-python",
   "name": "python",
   "nbconvert_exporter": "python",
   "pygments_lexer": "ipython3",
   "version": "3.7.6"
  }
 },
 "nbformat": 4,
 "nbformat_minor": 4
}
