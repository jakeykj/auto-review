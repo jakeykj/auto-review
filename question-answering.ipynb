{
 "cells": [
  {
   "cell_type": "code",
   "execution_count": 7,
   "metadata": {},
   "outputs": [],
   "source": [
    "#!pip install transformers"
   ]
  },
  {
   "cell_type": "code",
   "execution_count": 8,
   "metadata": {},
   "outputs": [
    {
     "name": "stderr",
     "output_type": "stream",
     "text": [
      "I0603 23:26:08.651999 140184141731584 file_utils.py:39] PyTorch version 1.4.0 available.\n",
      "/root/anaconda3/lib/python3.7/site-packages/tensorflow/python/framework/dtypes.py:523: FutureWarning: Passing (type, 1) or '1type' as a synonym of type is deprecated; in a future version of numpy, it will be understood as (type, (1,)) / '(1,)type'.\n",
      "  _np_qint8 = np.dtype([(\"qint8\", np.int8, 1)])\n",
      "/root/anaconda3/lib/python3.7/site-packages/tensorflow/python/framework/dtypes.py:524: FutureWarning: Passing (type, 1) or '1type' as a synonym of type is deprecated; in a future version of numpy, it will be understood as (type, (1,)) / '(1,)type'.\n",
      "  _np_quint8 = np.dtype([(\"quint8\", np.uint8, 1)])\n",
      "/root/anaconda3/lib/python3.7/site-packages/tensorflow/python/framework/dtypes.py:525: FutureWarning: Passing (type, 1) or '1type' as a synonym of type is deprecated; in a future version of numpy, it will be understood as (type, (1,)) / '(1,)type'.\n",
      "  _np_qint16 = np.dtype([(\"qint16\", np.int16, 1)])\n",
      "/root/anaconda3/lib/python3.7/site-packages/tensorflow/python/framework/dtypes.py:526: FutureWarning: Passing (type, 1) or '1type' as a synonym of type is deprecated; in a future version of numpy, it will be understood as (type, (1,)) / '(1,)type'.\n",
      "  _np_quint16 = np.dtype([(\"quint16\", np.uint16, 1)])\n",
      "/root/anaconda3/lib/python3.7/site-packages/tensorflow/python/framework/dtypes.py:527: FutureWarning: Passing (type, 1) or '1type' as a synonym of type is deprecated; in a future version of numpy, it will be understood as (type, (1,)) / '(1,)type'.\n",
      "  _np_qint32 = np.dtype([(\"qint32\", np.int32, 1)])\n",
      "/root/anaconda3/lib/python3.7/site-packages/tensorflow/python/framework/dtypes.py:532: FutureWarning: Passing (type, 1) or '1type' as a synonym of type is deprecated; in a future version of numpy, it will be understood as (type, (1,)) / '(1,)type'.\n",
      "  np_resource = np.dtype([(\"resource\", np.ubyte, 1)])\n",
      "I0603 23:26:10.414517 140184141731584 file_utils.py:55] TensorFlow version 2.0.0-alpha0 available.\n"
     ]
    }
   ],
   "source": [
    "import pandas as pd\n",
    "import torch\n",
    "from transformers import BertTokenizer\n",
    "from transformers import BertForQuestionAnswering\n",
    "\n",
    "\n",
    "def load_pretrained_qa_model(model_str=None, use_cuda=True):\n",
    "    if model_str is None:\n",
    "        model_str = 'bert-large-uncased-whole-word-masking-finetuned-squad'\n",
    "        device = torch.device('cuda' if torch.cuda.is_available() and use_cuda else 'cpu')\n",
    "    \n",
    "    tokenizer = BertTokenizer.from_pretrained(model_str)\n",
    "    model = BertForQuestionAnswering.from_pretrained(model_str).to(device)\n",
    "\n",
    "    model.eval()\n",
    "    return tokenizer, model\n",
    "\n",
    "def answer_question(question, document, model, tokenizer):\n",
    "    device = model.device\n",
    "    \n",
    "    encoded = tokenizer.encode_plus(question, document, return_tensors='pt', max_length=512)\n",
    "    start_scores, end_scores = model(encoded['input_ids'].to(device),\n",
    "                                     token_type_ids=encoded['token_type_ids'].to(device))\n",
    "\n",
    "    tokens = tokenizer.convert_ids_to_tokens(encoded['input_ids'].squeeze())\n",
    "    ans_start, ans_end = torch.argmax(start_scores), torch.argmax(end_scores)\n",
    "    \n",
    "    ans_tokens = tokens[ans_start: ans_end+1]\n",
    "    if '[SEP]' in ans_tokens:\n",
    "        ans_tokens = ans_tokens[ans_tokens.index('[SEP]')+1:]\n",
    "    ans = tokenizer.convert_tokens_to_string(ans_tokens)\n",
    "    ans = ans.replace(' - ', '-').replace('[CLS]', '')\n",
    "    ans_score = start_scores.max() + end_scores.max()\n",
    "\n",
    "    return ans, ans_score.item()"
   ]
  },
  {
   "cell_type": "code",
   "execution_count": 3,
   "metadata": {},
   "outputs": [],
   "source": [
    "import numpy as np\n",
    "import pandas as pd\n",
    "from tqdm import tqdm\n",
    "\n",
    "#from question_answering import load_pretrained_qa_model\n",
    "#from question_answering import answer_question"
   ]
  },
  {
   "cell_type": "code",
   "execution_count": 9,
   "metadata": {},
   "outputs": [],
   "source": [
    "### High-level structure will be updated based on the questions"
   ]
  },
  {
   "cell_type": "code",
   "execution_count": null,
   "metadata": {},
   "outputs": [],
   "source": []
  }
 ],
 "metadata": {
  "kernelspec": {
   "display_name": "Python 3",
   "language": "python",
   "name": "python3"
  },
  "language_info": {
   "codemirror_mode": {
    "name": "ipython",
    "version": 3
   },
   "file_extension": ".py",
   "mimetype": "text/x-python",
   "name": "python",
   "nbconvert_exporter": "python",
   "pygments_lexer": "ipython3",
   "version": "3.7.6"
  }
 },
 "nbformat": 4,
 "nbformat_minor": 4
}
